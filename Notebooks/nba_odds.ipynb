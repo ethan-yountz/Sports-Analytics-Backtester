{
 "cells": [
  {
   "cell_type": "code",
   "execution_count": null,
   "id": "cf81b906",
   "metadata": {},
   "outputs": [
    {
     "name": "stdout",
     "output_type": "stream",
     "text": [
      "Using dataset: NBA\n",
      "RAW_DIR      : Data\\Raw\\NBA\n",
      "PROCESSED_DIR: data\\processed\n"
     ]
    }
   ],
   "source": [
    "#Setting the correct pathing for the nba dataset I'm working with\n",
    "\n",
    "from pathlib import Path\n",
    "\n",
    "DATASET = \"NBA\"\n",
    "\n",
    "# Rooted paths for this dataset\n",
    "RAW_DIR       = Path(\"Data/Raw/NBA\") \n",
    "PROCESSED_DIR = Path(\"data/processed\")\n",
    "\n",
    "# Make sure folders exist\n",
    "for p in [RAW_DIR, PROCESSED_DIR]:\n",
    "    p.mkdir(parents=True, exist_ok=True)\n",
    "\n",
    "print(\"Using dataset:\", DATASET)\n",
    "print(\"RAW_DIR      :\", RAW_DIR)\n",
    "print(\"PROCESSED_DIR:\", PROCESSED_DIR)\n",
    "\n"
   ]
  }
 ],
 "metadata": {
  "kernelspec": {
   "display_name": "Python 3",
   "language": "python",
   "name": "python3"
  },
  "language_info": {
   "codemirror_mode": {
    "name": "ipython",
    "version": 3
   },
   "file_extension": ".py",
   "mimetype": "text/x-python",
   "name": "python",
   "nbconvert_exporter": "python",
   "pygments_lexer": "ipython3",
   "version": "3.13.7"
  }
 },
 "nbformat": 4,
 "nbformat_minor": 5
}
